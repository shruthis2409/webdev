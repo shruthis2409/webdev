{
 "cells": [
  {
   "cell_type": "markdown",
   "id": "787df416-0280-46f9-88db-8b86c3473a90",
   "metadata": {},
   "source": [
    "<h5>Name:Muthu Shruthi S</h5>\n",
    "<h5>Task-5</h5>"
   ]
  },
  {
   "cell_type": "markdown",
   "id": "1d96949f-5511-48ce-8e98-e8580db27a2a",
   "metadata": {},
   "source": [
    "<h4>Importing Libraries</h4>"
   ]
  },
  {
   "cell_type": "code",
   "execution_count": 27,
   "id": "098bf222-e1d0-4224-8b42-a43b3960654a",
   "metadata": {},
   "outputs": [],
   "source": [
    "import matplotlib.pyplot as plt"
   ]
  },
  {
   "cell_type": "markdown",
   "id": "9bbab918-f77c-40d7-93eb-7d139e75fa54",
   "metadata": {},
   "source": [
    "<h4>Creating class student</h4>"
   ]
  },
  {
   "cell_type": "code",
   "execution_count": 28,
   "id": "e6e65acf-2bfb-4bb4-9d94-b315e395d64e",
   "metadata": {},
   "outputs": [],
   "source": [
    "class Student:\n",
    "    def __init__(self, name, roll_no, department, marks):\n",
    "        self.name = name\n",
    "        self.roll_no = roll_no\n",
    "        self.department = department\n",
    "        self.marks = marks"
   ]
  },
  {
   "cell_type": "markdown",
   "id": "6b42b07d-7f2e-4944-b5d3-23e728053d85",
   "metadata": {},
   "source": [
    "<h4>Creating Add Student Method</h4>"
   ]
  },
  {
   "cell_type": "code",
   "execution_count": 36,
   "id": "670965b8-4b1c-4649-868b-4f8a2ecdb2d2",
   "metadata": {},
   "outputs": [],
   "source": [
    "# Function to add students\n",
    "def add_student():\n",
    "    name = input(\"Enter student's name: \")\n",
    "    roll_no = int(input(\"Enter student's roll number: \"))\n",
    "    department = input(\"Enter student's department: \")\n",
    "    sub=['Python','Java','C','C++']\n",
    "    marks={}\n",
    "    for i in sub:\n",
    "        mark = int(input(f\"Enter marks for {i}\"))\n",
    "        marks[i] = mark\n",
    "    student = Student(name, roll_no, department, marks)\n",
    "    students.append(student)\n",
    "    print(\"Student Info added successfully!\")"
   ]
  },
  {
   "cell_type": "markdown",
   "id": "b5f2cc90-56b2-4c36-ab16-036f221bc14a",
   "metadata": {},
   "source": [
    "<h4>Creating method to display Student details</h4>"
   ]
  },
  {
   "cell_type": "code",
   "execution_count": 37,
   "id": "525ef76d-6b8f-4693-9c65-6e90075eb468",
   "metadata": {},
   "outputs": [],
   "source": [
    "# Function to display information based on student name\n",
    "def display_student_info(name):\n",
    "    for student in students:\n",
    "        if student.name == name:\n",
    "            print(\"Name:\", student.name)\n",
    "            print(\"Roll Number:\", student.roll_no)\n",
    "            print(\"Department:\", student.department)\n",
    "            print(\"Marks:\")\n",
    "            for subject, mark in student.marks.items():\n",
    "                print(subject + \":\", mark)\n",
    "            return\n",
    "    print(\"Student not found!\")"
   ]
  },
  {
   "cell_type": "markdown",
   "id": "2a77e3ae-890d-487f-8b7b-fa9372c5ff16",
   "metadata": {},
   "source": [
    "<h4>Creating method to display results</h4>"
   ]
  },
  {
   "cell_type": "code",
   "execution_count": 38,
   "id": "61ebb2ca-d9de-4f46-88c4-08a0aa520d5d",
   "metadata": {},
   "outputs": [],
   "source": [
    "# Function to display result based on student name\n",
    "def display_student_result(name):\n",
    "    for student in students:\n",
    "        if student.name==name:\n",
    "            mark_list=list(student.marks.values())\n",
    "            Result=0\n",
    "            for i in mark_list:\n",
    "                if i<40:\n",
    "                    Result+=1\n",
    "            if(Result==0):\n",
    "                print(\"Candidate promoted.\")\n",
    "            else:\n",
    "                print(\"Candidate not promoted.\")\n",
    "            return\n",
    "    print(\"Student not found!\")"
   ]
  },
  {
   "cell_type": "markdown",
   "id": "5af82d21-934c-4f59-91ac-43be8aaae8fe",
   "metadata": {},
   "source": [
    "<h4>Creating method to display Students details in dictionay</h4>"
   ]
  },
  {
   "cell_type": "code",
   "execution_count": 39,
   "id": "fcca36f4-0e62-44b2-bd2d-b5792f7f0217",
   "metadata": {},
   "outputs": [],
   "source": [
    "# Function to display student details in dictionary\n",
    "def display_student_dict():\n",
    "    for student in students:\n",
    "        dict={\"Name\":student.name,\"Roll_No\":student.roll_no,\"Department\":student.department,\"Marks\":student.marks}\n",
    "        print(dict)"
   ]
  },
  {
   "cell_type": "markdown",
   "id": "f0857b72-5d27-4edc-88e7-57d7f66f2ea7",
   "metadata": {},
   "source": [
    "<h4>Creating method to save student data as csv file</h4>"
   ]
  },
  {
   "cell_type": "code",
   "execution_count": 44,
   "id": "0008b851-1971-4328-82b5-282c4cc136b7",
   "metadata": {},
   "outputs": [],
   "source": [
    "def save_as_csv(filename):\n",
    "    if not filename.endswith('.csv'):\n",
    "        filename += '.csv'\n",
    "\n",
    "    with open(filename, 'w') as file:\n",
    "        # Write the header line\n",
    "        file.write(\"Name,Department,Roll Number,Python,Java,C,C++\"+\"\\n\")\n",
    "        # Write student data\n",
    "        for student in students:\n",
    "            subjects=['Python','Java','C','C++']\n",
    "            file.write(f\"{student.name},{student.department},{student.roll_no},\")\n",
    "            marks_line = \",\".join([str(student.marks.get(subject, \"\")) for subject in subjects]) + \"\\n\"\n",
    "            file.write(marks_line)\n",
    "\n"
   ]
  },
  {
   "cell_type": "markdown",
   "id": "de9b53c3-ece9-4239-b1ef-001b11f81662",
   "metadata": {},
   "source": [
    "<h4>Creating method to plot every students</h4>"
   ]
  },
  {
   "cell_type": "code",
   "execution_count": 45,
   "id": "b9601f45-2388-46ea-bfaf-830d12a8a112",
   "metadata": {},
   "outputs": [],
   "source": [
    "def plot_student_data():\n",
    "    for student in students:\n",
    "        subjects = list(student.marks.keys())\n",
    "        marks = list(student.marks.values())\n",
    "\n",
    "        plt.figure(figsize=(8, 6))\n",
    "        plt.bar(subjects, marks, color='red', width=0.5)\n",
    "        plt.xlabel('Subjects')\n",
    "        plt.ylabel('Marks')\n",
    "        plt.title(f'Marks Distribution for {student.name}')\n",
    "        plt.show()"
   ]
  },
  {
   "cell_type": "markdown",
   "id": "8e9d7afe-4dc9-4dce-9b95-aab4356268d7",
   "metadata": {},
   "source": [
    "<h3>MAIN PROGRAM</h3>"
   ]
  },
  {
   "cell_type": "code",
   "execution_count": 46,
   "id": "757be00d-7109-4669-8b19-00cb850ab9c3",
   "metadata": {},
   "outputs": [
    {
     "name": "stdout",
     "output_type": "stream",
     "text": [
      "\n",
      "Options:\n",
      "1. Add student\n",
      "2. Display information\n",
      "3. Display Dictionary\n",
      "4. Check Result\n",
      "5. Save data as CSV\n",
      "6. Plot student data\n",
      "7. Exit\n"
     ]
    },
    {
     "name": "stdin",
     "output_type": "stream",
     "text": [
      "Enter your choice:  1\n",
      "Enter student's name:  MUTHU\n",
      "Enter student's roll number:  1\n",
      "Enter student's department:  CCE\n",
      "Enter marks for Python 90\n",
      "Enter marks for Java 80\n",
      "Enter marks for C 80\n",
      "Enter marks for C++ 20\n"
     ]
    },
    {
     "name": "stdout",
     "output_type": "stream",
     "text": [
      "Student Info added successfully!\n",
      "\n",
      "Options:\n",
      "1. Add student\n",
      "2. Display information\n",
      "3. Display Dictionary\n",
      "4. Check Result\n",
      "5. Save data as CSV\n",
      "6. Plot student data\n",
      "7. Exit\n"
     ]
    },
    {
     "name": "stdin",
     "output_type": "stream",
     "text": [
      "Enter your choice:  1\n",
      "Enter student's name:  SHRUTHI\n",
      "Enter student's roll number:  2\n",
      "Enter student's department:  CCE\n",
      "Enter marks for Python 78\n",
      "Enter marks for Java 87\n",
      "Enter marks for C 85\n",
      "Enter marks for C++ 56\n"
     ]
    },
    {
     "name": "stdout",
     "output_type": "stream",
     "text": [
      "Student Info added successfully!\n",
      "\n",
      "Options:\n",
      "1. Add student\n",
      "2. Display information\n",
      "3. Display Dictionary\n",
      "4. Check Result\n",
      "5. Save data as CSV\n",
      "6. Plot student data\n",
      "7. Exit\n"
     ]
    },
    {
     "name": "stdin",
     "output_type": "stream",
     "text": [
      "Enter your choice:  1\n",
      "Enter student's name:  DEEPTHI\n",
      "Enter student's roll number:  3\n",
      "Enter student's department:  CCE\n",
      "Enter marks for Python 78\n",
      "Enter marks for Java 87\n",
      "Enter marks for C 56\n",
      "Enter marks for C++ 45\n"
     ]
    },
    {
     "name": "stdout",
     "output_type": "stream",
     "text": [
      "Student Info added successfully!\n",
      "\n",
      "Options:\n",
      "1. Add student\n",
      "2. Display information\n",
      "3. Display Dictionary\n",
      "4. Check Result\n",
      "5. Save data as CSV\n",
      "6. Plot student data\n",
      "7. Exit\n"
     ]
    },
    {
     "name": "stdin",
     "output_type": "stream",
     "text": [
      "Enter your choice:  2\n",
      "Enter student's name:  MUTHU\n"
     ]
    },
    {
     "name": "stdout",
     "output_type": "stream",
     "text": [
      "Name: MUTHU\n",
      "Roll Number: 1\n",
      "Department: CCE\n",
      "Marks:\n",
      "Python: 90\n",
      "Java: 80\n",
      "C: 80\n",
      "C++: 20\n",
      "\n",
      "Options:\n",
      "1. Add student\n",
      "2. Display information\n",
      "3. Display Dictionary\n",
      "4. Check Result\n",
      "5. Save data as CSV\n",
      "6. Plot student data\n",
      "7. Exit\n"
     ]
    },
    {
     "name": "stdin",
     "output_type": "stream",
     "text": [
      "Enter your choice:  3\n"
     ]
    },
    {
     "name": "stdout",
     "output_type": "stream",
     "text": [
      "{'Name': 'MUTHU', 'Roll_No': 1, 'Department': 'CCE', 'Marks': {'Python': 90, 'Java': 80, 'C': 80, 'C++': 20}}\n",
      "{'Name': 'SHRUTHI', 'Roll_No': 2, 'Department': 'CCE', 'Marks': {'Python': 78, 'Java': 87, 'C': 85, 'C++': 56}}\n",
      "{'Name': 'DEEPTHI', 'Roll_No': 3, 'Department': 'CCE', 'Marks': {'Python': 78, 'Java': 87, 'C': 56, 'C++': 45}}\n",
      "\n",
      "Options:\n",
      "1. Add student\n",
      "2. Display information\n",
      "3. Display Dictionary\n",
      "4. Check Result\n",
      "5. Save data as CSV\n",
      "6. Plot student data\n",
      "7. Exit\n"
     ]
    },
    {
     "name": "stdin",
     "output_type": "stream",
     "text": [
      "Enter your choice:  4\n",
      "Enter student's name:  DEEPTHI\n"
     ]
    },
    {
     "name": "stdout",
     "output_type": "stream",
     "text": [
      "Candidate promoted.\n",
      "\n",
      "Options:\n",
      "1. Add student\n",
      "2. Display information\n",
      "3. Display Dictionary\n",
      "4. Check Result\n",
      "5. Save data as CSV\n",
      "6. Plot student data\n",
      "7. Exit\n"
     ]
    },
    {
     "name": "stdin",
     "output_type": "stream",
     "text": [
      "Enter your choice:  5\n",
      "Enter CSV filename (without extension):  muthu_marks\n"
     ]
    },
    {
     "name": "stdout",
     "output_type": "stream",
     "text": [
      "Data saved as muthu_marks.csv\n",
      "\n",
      "Options:\n",
      "1. Add student\n",
      "2. Display information\n",
      "3. Display Dictionary\n",
      "4. Check Result\n",
      "5. Save data as CSV\n",
      "6. Plot student data\n",
      "7. Exit\n"
     ]
    },
    {
     "name": "stdin",
     "output_type": "stream",
     "text": [
      "Enter your choice:  6\n"
     ]
    },
    {
     "data": {
      "image/png": "[encoded data removed]",
      "text/plain": [
       "<Figure size 800x600 with 1 Axes>"
      ]
     },
     "metadata": {},
     "output_type": "display_data"
    },
    {
     "data": {
      "image/png": "[encoded data removed]",
      "text/plain": [
       "<Figure size 800x600 with 1 Axes>"
      ]
     },
     "metadata": {},
     "output_type": "display_data"
    },
    {
     "data": {
      "image/png": "[encoded data removed]",
      "text/plain": [
       "<Figure size 800x600 with 1 Axes>"
      ]
     },
     "metadata": {},
     "output_type": "display_data"
    },
    {
     "name": "stdout",
     "output_type": "stream",
     "text": [
      "\n",
      "Options:\n",
      "1. Add student\n",
      "2. Display information\n",
      "3. Display Dictionary\n",
      "4. Check Result\n",
      "5. Save data as CSV\n",
      "6. Plot student data\n",
      "7. Exit\n"
     ]
    },
    {
     "name": "stdin",
     "output_type": "stream",
     "text": [
      "Enter your choice:  7\n"
     ]
    },
    {
     "name": "stdout",
     "output_type": "stream",
     "text": [
      "Exiting System\n"
     ]
    }
   ],
   "source": [
    "# Main program\n",
    "students = []\n",
    "\n",
    "while True:\n",
    "    print(\"\\nOptions:\")\n",
    "    print(\"1. Add student\")\n",
    "    print(\"2. Display information\")\n",
    "    print(\"3. Display Dictionary\")\n",
    "    print(\"4. Check Result\")\n",
    "    print(\"5. Save data as CSV\")\n",
    "    print(\"6. Plot student data\")\n",
    "    print(\"7. Exit\")\n",
    "    choice = int(input(\"Enter your choice: \"))\n",
    "\n",
    "    if choice == 1:\n",
    "        add_student()\n",
    "    elif choice == 2:\n",
    "        name = input(\"Enter student's name: \")\n",
    "        display_student_info(name)\n",
    "    elif choice == 3:\n",
    "        display_student_dict()\n",
    "    elif choice == 4:\n",
    "        name = input(\"Enter student's name: \")\n",
    "        display_student_result(name)\n",
    "    elif choice == 5:\n",
    "        filename = input(\"Enter CSV filename (without extension): \")\n",
    "        save_as_csv(filename)\n",
    "        print(f\"Data saved as {filename}.csv\")\n",
    "    elif choice == 6:\n",
    "        plot_student_data()\n",
    "    elif choice == 7:\n",
    "        print(\"Exiting System\")\n",
    "        break\n",
    "    else:\n",
    "        print(\"Invalid choice! Please try again.\")\n"
   ]
  },
  {
   "cell_type": "code",
   "execution_count": null,
   "id": "bf13f42c-08d8-46be-9bc5-e8093e10adfb",
   "metadata": {},
   "outputs": [],
   "source": []
  }
 ],
 "metadata": {
  "kernelspec": {
   "display_name": "Python 3 (ipykernel)",
   "language": "python",
   "name": "python3"
  },
  "language_info": {
   "codemirror_mode": {
    "name": "ipython",
    "version": 3
   },
   "file_extension": ".py",
   "mimetype": "text/x-python",
   "name": "python",
   "nbconvert_exporter": "python",
   "pygments_lexer": "ipython3",
   "version": "3.11.7"
  }
 },
 "nbformat": 4,
 "nbformat_minor": 5
}
